{
 "cells": [
  {
   "cell_type": "code",
   "execution_count": 60,
   "id": "c2f86b6c",
   "metadata": {},
   "outputs": [],
   "source": [
    "import pandas as pd\n",
    "import re\n",
    "import sklearn\n",
    "import seaborn as sns\n",
    "import logging \n",
    "import numpy as np \n",
    "from optparse import OptionParser\n",
    "import sys\n",
    "from time import time \n",
    "import matplotlib.pyplot as plt \n",
    "from sklearn.datasets import fetch_20newsgroups\n",
    "from sklearn.feature_extraction.text import TfidfVectorizer  \n",
    "from sklearn.feature_extraction.text import HashingVectorizer \n",
    "from sklearn.feature_selection import SelectFromModel\n",
    "from sklearn.feature_selection import SelectKBest, chi2\n",
    "from sklearn.linear_model import RidgeClassifier \n",
    "from sklearn.pipeline import Pipeline\n",
    "from sklearn.svm import LinearSVC \n",
    "from sklearn.linear_model import SGDClassifier\n",
    "from sklearn.linear_model import Perceptron \n",
    "from sklearn.linear_model import PassiveAggressiveClassifier\n",
    "from sklearn.naive_bayes import BernoulliNB, ComplementNB, MultinomialNB\n",
    "from sklearn.neighbors import KNeighborsClassifier\n",
    "from sklearn.neighbors import NearestCentroid\n",
    "from sklearn.ensemble import RandomForestClassifier\n",
    "from sklearn.utils.extmath import density\n",
    "from sklearn import metrics\n",
    "from nltk.corpus import stopwords \n",
    "import nltk"
   ]
  },
  {
   "cell_type": "code",
   "execution_count": 119,
   "id": "a88254bf",
   "metadata": {},
   "outputs": [],
   "source": [
    "stopwords = stopwords.words('english')"
   ]
  },
  {
   "cell_type": "code",
   "execution_count": 123,
   "id": "866bb46c",
   "metadata": {},
   "outputs": [],
   "source": [
    "wnl = nltk.WordNetLemmatizer()"
   ]
  },
  {
   "cell_type": "code",
   "execution_count": 27,
   "id": "57b5e691",
   "metadata": {},
   "outputs": [
    {
     "data": {
      "text/html": [
       "<div>\n",
       "<style scoped>\n",
       "    .dataframe tbody tr th:only-of-type {\n",
       "        vertical-align: middle;\n",
       "    }\n",
       "\n",
       "    .dataframe tbody tr th {\n",
       "        vertical-align: top;\n",
       "    }\n",
       "\n",
       "    .dataframe thead th {\n",
       "        text-align: right;\n",
       "    }\n",
       "</style>\n",
       "<table border=\"1\" class=\"dataframe\">\n",
       "  <thead>\n",
       "    <tr style=\"text-align: right;\">\n",
       "      <th></th>\n",
       "      <th>Unnamed: 0</th>\n",
       "      <th>Year</th>\n",
       "      <th>Headlines</th>\n",
       "      <th>Time</th>\n",
       "      <th>Tokens</th>\n",
       "      <th>pos_tag</th>\n",
       "      <th>senti_score</th>\n",
       "      <th>Overall Sentiment</th>\n",
       "    </tr>\n",
       "  </thead>\n",
       "  <tbody>\n",
       "    <tr>\n",
       "      <th>0</th>\n",
       "      <td>0</td>\n",
       "      <td>2020-01-01</td>\n",
       "      <td>Jim Cramer: A better way to invest in the Covi...</td>\n",
       "      <td>7:51  PM ET Fri, 17 July 2020</td>\n",
       "      <td>['better', 'way', 'invest', 'vaccine', 'gold',...</td>\n",
       "      <td>[('better', 'RBR'), ('way', 'NN'), ('invest', ...</td>\n",
       "      <td>0.875</td>\n",
       "      <td>Positive</td>\n",
       "    </tr>\n",
       "    <tr>\n",
       "      <th>1</th>\n",
       "      <td>1</td>\n",
       "      <td>2020-01-01</td>\n",
       "      <td>Cramer's lightning round: I would own Teradyne</td>\n",
       "      <td>7:33  PM ET Fri, 17 July 2020</td>\n",
       "      <td>['would', 'teradyne']</td>\n",
       "      <td>[('would', 'MD'), ('teradyne', 'VB')]</td>\n",
       "      <td>0.000</td>\n",
       "      <td>Neutral</td>\n",
       "    </tr>\n",
       "    <tr>\n",
       "      <th>2</th>\n",
       "      <td>2</td>\n",
       "      <td>2020-01-01</td>\n",
       "      <td>Cramer's week ahead: Big week for earnings, ev...</td>\n",
       "      <td>7:25  PM ET Fri, 17 July 2020</td>\n",
       "      <td>['big', 'week', 'earnings', 'even', 'bigger', ...</td>\n",
       "      <td>[('big', 'JJ'), ('week', 'NN'), ('earnings', '...</td>\n",
       "      <td>0.375</td>\n",
       "      <td>Positive</td>\n",
       "    </tr>\n",
       "    <tr>\n",
       "      <th>3</th>\n",
       "      <td>3</td>\n",
       "      <td>2020-01-01</td>\n",
       "      <td>IQ Capital CEO Keith Bliss says tech and healt...</td>\n",
       "      <td>4:24  PM ET Fri, 17 July 2020</td>\n",
       "      <td>['capital', 'keith', 'bliss', 'tech', 'healthc...</td>\n",
       "      <td>[('capital', 'NN'), ('keith', 'NN'), ('bliss',...</td>\n",
       "      <td>0.250</td>\n",
       "      <td>Positive</td>\n",
       "    </tr>\n",
       "    <tr>\n",
       "      <th>4</th>\n",
       "      <td>4</td>\n",
       "      <td>2020-01-01</td>\n",
       "      <td>Wall Street delivered the 'kind of pullback I'...</td>\n",
       "      <td>7:36  PM ET Thu, 16 July 2020</td>\n",
       "      <td>['street', 'delivered', 'kind', 'pullback', 'w...</td>\n",
       "      <td>[('street', 'NN'), ('delivered', 'VBD'), ('kin...</td>\n",
       "      <td>0.000</td>\n",
       "      <td>Neutral</td>\n",
       "    </tr>\n",
       "  </tbody>\n",
       "</table>\n",
       "</div>"
      ],
      "text/plain": [
       "   Unnamed: 0       Year                                          Headlines  \\\n",
       "0           0 2020-01-01  Jim Cramer: A better way to invest in the Covi...   \n",
       "1           1 2020-01-01     Cramer's lightning round: I would own Teradyne   \n",
       "2           2 2020-01-01  Cramer's week ahead: Big week for earnings, ev...   \n",
       "3           3 2020-01-01  IQ Capital CEO Keith Bliss says tech and healt...   \n",
       "4           4 2020-01-01  Wall Street delivered the 'kind of pullback I'...   \n",
       "\n",
       "                             Time  \\\n",
       "0   7:51  PM ET Fri, 17 July 2020   \n",
       "1   7:33  PM ET Fri, 17 July 2020   \n",
       "2   7:25  PM ET Fri, 17 July 2020   \n",
       "3   4:24  PM ET Fri, 17 July 2020   \n",
       "4   7:36  PM ET Thu, 16 July 2020   \n",
       "\n",
       "                                              Tokens  \\\n",
       "0  ['better', 'way', 'invest', 'vaccine', 'gold',...   \n",
       "1                              ['would', 'teradyne']   \n",
       "2  ['big', 'week', 'earnings', 'even', 'bigger', ...   \n",
       "3  ['capital', 'keith', 'bliss', 'tech', 'healthc...   \n",
       "4  ['street', 'delivered', 'kind', 'pullback', 'w...   \n",
       "\n",
       "                                             pos_tag  senti_score  \\\n",
       "0  [('better', 'RBR'), ('way', 'NN'), ('invest', ...        0.875   \n",
       "1              [('would', 'MD'), ('teradyne', 'VB')]        0.000   \n",
       "2  [('big', 'JJ'), ('week', 'NN'), ('earnings', '...        0.375   \n",
       "3  [('capital', 'NN'), ('keith', 'NN'), ('bliss',...        0.250   \n",
       "4  [('street', 'NN'), ('delivered', 'VBD'), ('kin...        0.000   \n",
       "\n",
       "  Overall Sentiment  \n",
       "0          Positive  \n",
       "1           Neutral  \n",
       "2          Positive  \n",
       "3          Positive  \n",
       "4           Neutral  "
      ]
     },
     "execution_count": 27,
     "metadata": {},
     "output_type": "execute_result"
    }
   ],
   "source": [
    "news_data = pd.read_excel('labeled_data_11_29.xlsx')\n",
    "news_data.head()"
   ]
  },
  {
   "cell_type": "code",
   "execution_count": 33,
   "id": "38bc6eeb",
   "metadata": {},
   "outputs": [],
   "source": [
    "data = news_data.copy()"
   ]
  },
  {
   "cell_type": "code",
   "execution_count": 34,
   "id": "89ed2fbd",
   "metadata": {},
   "outputs": [
    {
     "name": "stderr",
     "output_type": "stream",
     "text": [
      "C:\\Anaconda\\envs\\py38\\lib\\site-packages\\seaborn\\_decorators.py:36: FutureWarning: Pass the following variable as a keyword arg: x. From version 0.12, the only valid positional argument will be `data`, and passing other arguments without an explicit keyword will result in an error or misinterpretation.\n",
      "  warnings.warn(\n"
     ]
    },
    {
     "data": {
      "text/plain": [
       "<AxesSubplot:xlabel='Overall Sentiment', ylabel='count'>"
      ]
     },
     "execution_count": 34,
     "metadata": {},
     "output_type": "execute_result"
    },
    {
     "data": {
      "image/png": "[encoded data removed]",
      "text/plain": [
       "<Figure size 432x288 with 1 Axes>"
      ]
     },
     "metadata": {
      "needs_background": "light"
     },
     "output_type": "display_data"
    }
   ],
   "source": [
    "sns.countplot(data['Overall Sentiment'])"
   ]
  },
  {
   "cell_type": "code",
   "execution_count": 35,
   "id": "f40a0a7b",
   "metadata": {},
   "outputs": [],
   "source": [
    "data['Label'] = data['Overall Sentiment'].replace({'Positive':1, 'Neutral':0, 'Negative':-1})"
   ]
  },
  {
   "cell_type": "code",
   "execution_count": 91,
   "id": "d7d9e000",
   "metadata": {},
   "outputs": [],
   "source": [
    "data['Tokens'] = data['Tokens'].apply(lambda x : re.sub(r'[\\[\\]\\']','',x))"
   ]
  },
  {
   "cell_type": "code",
   "execution_count": 94,
   "id": "fc5ace04",
   "metadata": {},
   "outputs": [],
   "source": [
    "data['sentence'] = data['Tokens'].apply(lambda x : x.split(','))"
   ]
  },
  {
   "cell_type": "code",
   "execution_count": 96,
   "id": "b8ef9a99",
   "metadata": {},
   "outputs": [],
   "source": [
    "data['sentence'] = data['sentence'].apply(lambda x:''.join(x))"
   ]
  },
  {
   "cell_type": "code",
   "execution_count": 107,
   "id": "b54c5975",
   "metadata": {},
   "outputs": [],
   "source": [
    "data = data.drop(['Unnamed: 0'], axis = 1)"
   ]
  },
  {
   "cell_type": "code",
   "execution_count": 111,
   "id": "0e46d500",
   "metadata": {},
   "outputs": [
    {
     "name": "stderr",
     "output_type": "stream",
     "text": [
      "<ipython-input-111-75666307fcaa>:3: SettingWithCopyWarning: \n",
      "A value is trying to be set on a copy of a slice from a DataFrame\n",
      "\n",
      "See the caveats in the documentation: https://pandas.pydata.org/pandas-docs/stable/user_guide/indexing.html#returning-a-view-versus-a-copy\n",
      "  data.sentence[i] = data.Headlines[i]\n"
     ]
    }
   ],
   "source": [
    "for i in range(len(data.sentence)):\n",
    "    if len(data.sentence[i]) == 0:\n",
    "        data.sentence[i] = data.Headlines[i]"
   ]
  },
  {
   "cell_type": "code",
   "execution_count": 116,
   "id": "078ecc96",
   "metadata": {},
   "outputs": [],
   "source": [
    "data['Tokens'] = [nltk.word_tokenize(sent) \n",
    "                        for sent in data.sentence]"
   ]
  },
  {
   "cell_type": "code",
   "execution_count": 121,
   "id": "723f42d2",
   "metadata": {},
   "outputs": [],
   "source": [
    "def normal_tokenized(tokens) -> list:\n",
    "    Tokens = []\n",
    "    for token in tokens:\n",
    "        Tokens.append([wnl.lemmatize(word).lower()\n",
    "                                           for word in token \n",
    "                                           if word.lower() not in stopwords and\n",
    "                                           word.isalpha()]) \n",
    "    return Tokens"
   ]
  },
  {
   "cell_type": "code",
   "execution_count": 129,
   "id": "cbbfaa02",
   "metadata": {},
   "outputs": [],
   "source": [
    "data['Tokens'] = normal_tokenized(data['Tokens'])"
   ]
  },
  {
   "cell_type": "code",
   "execution_count": 130,
   "id": "1e2f5ebd",
   "metadata": {},
   "outputs": [],
   "source": [
    "data['sentence'] = data['Tokens'].apply(lambda x:' '.join(x))"
   ]
  },
  {
   "cell_type": "code",
   "execution_count": 162,
   "id": "d7544bee",
   "metadata": {},
   "outputs": [],
   "source": [
    "data.to_excel('ready_to_model.xlsx')"
   ]
  },
  {
   "cell_type": "code",
   "execution_count": 137,
   "id": "f6e8a643",
   "metadata": {},
   "outputs": [],
   "source": [
    "train_data = data.copy()"
   ]
  },
  {
   "cell_type": "code",
   "execution_count": 18,
   "id": "ef456d65",
   "metadata": {},
   "outputs": [],
   "source": [
    "train_data = pd.read_excel('ready_to_model.xlsx')"
   ]
  },
  {
   "cell_type": "code",
   "execution_count": 4,
   "id": "f479b406",
   "metadata": {},
   "outputs": [
    {
     "data": {
      "text/html": [
       "<div>\n",
       "<style scoped>\n",
       "    .dataframe tbody tr th:only-of-type {\n",
       "        vertical-align: middle;\n",
       "    }\n",
       "\n",
       "    .dataframe tbody tr th {\n",
       "        vertical-align: top;\n",
       "    }\n",
       "\n",
       "    .dataframe thead th {\n",
       "        text-align: right;\n",
       "    }\n",
       "</style>\n",
       "<table border=\"1\" class=\"dataframe\">\n",
       "  <thead>\n",
       "    <tr style=\"text-align: right;\">\n",
       "      <th></th>\n",
       "      <th>Unnamed: 0</th>\n",
       "      <th>Year</th>\n",
       "      <th>Headlines</th>\n",
       "      <th>Time</th>\n",
       "      <th>Tokens</th>\n",
       "      <th>pos_tag</th>\n",
       "      <th>senti_score</th>\n",
       "      <th>Overall Sentiment</th>\n",
       "      <th>Label</th>\n",
       "      <th>sentence</th>\n",
       "    </tr>\n",
       "  </thead>\n",
       "  <tbody>\n",
       "    <tr>\n",
       "      <th>0</th>\n",
       "      <td>0</td>\n",
       "      <td>2020-01-01</td>\n",
       "      <td>Jim Cramer: A better way to invest in the Covi...</td>\n",
       "      <td>7:51  PM ET Fri, 17 July 2020</td>\n",
       "      <td>['better', 'way', 'invest', 'vaccine', 'gold',...</td>\n",
       "      <td>[('better', 'RBR'), ('way', 'NN'), ('invest', ...</td>\n",
       "      <td>0.875</td>\n",
       "      <td>Positive</td>\n",
       "      <td>1</td>\n",
       "      <td>better way invest vaccine gold rush</td>\n",
       "    </tr>\n",
       "    <tr>\n",
       "      <th>1</th>\n",
       "      <td>1</td>\n",
       "      <td>2020-01-01</td>\n",
       "      <td>Cramer's lightning round: I would own Teradyne</td>\n",
       "      <td>7:33  PM ET Fri, 17 July 2020</td>\n",
       "      <td>['would', 'teradyne']</td>\n",
       "      <td>[('would', 'MD'), ('teradyne', 'VB')]</td>\n",
       "      <td>0.000</td>\n",
       "      <td>Neutral</td>\n",
       "      <td>0</td>\n",
       "      <td>would teradyne</td>\n",
       "    </tr>\n",
       "    <tr>\n",
       "      <th>2</th>\n",
       "      <td>2</td>\n",
       "      <td>2020-01-01</td>\n",
       "      <td>Cramer's week ahead: Big week for earnings, ev...</td>\n",
       "      <td>7:25  PM ET Fri, 17 July 2020</td>\n",
       "      <td>['big', 'week', 'earnings', 'even', 'bigger', ...</td>\n",
       "      <td>[('big', 'JJ'), ('week', 'NN'), ('earnings', '...</td>\n",
       "      <td>0.375</td>\n",
       "      <td>Positive</td>\n",
       "      <td>1</td>\n",
       "      <td>big week earnings even bigger week vaccine</td>\n",
       "    </tr>\n",
       "    <tr>\n",
       "      <th>3</th>\n",
       "      <td>3</td>\n",
       "      <td>2020-01-01</td>\n",
       "      <td>IQ Capital CEO Keith Bliss says tech and healt...</td>\n",
       "      <td>4:24  PM ET Fri, 17 July 2020</td>\n",
       "      <td>['capital', 'keith', 'bliss', 'tech', 'healthc...</td>\n",
       "      <td>[('capital', 'NN'), ('keith', 'NN'), ('bliss',...</td>\n",
       "      <td>0.250</td>\n",
       "      <td>Positive</td>\n",
       "      <td>1</td>\n",
       "      <td>capital keith bliss tech healthcare rally</td>\n",
       "    </tr>\n",
       "    <tr>\n",
       "      <th>4</th>\n",
       "      <td>4</td>\n",
       "      <td>2020-01-01</td>\n",
       "      <td>Wall Street delivered the 'kind of pullback I'...</td>\n",
       "      <td>7:36  PM ET Thu, 16 July 2020</td>\n",
       "      <td>['street', 'delivered', 'kind', 'pullback', 'w...</td>\n",
       "      <td>[('street', 'NN'), ('delivered', 'VBD'), ('kin...</td>\n",
       "      <td>0.000</td>\n",
       "      <td>Neutral</td>\n",
       "      <td>0</td>\n",
       "      <td>street delivered kind pullback waiting</td>\n",
       "    </tr>\n",
       "  </tbody>\n",
       "</table>\n",
       "</div>"
      ],
      "text/plain": [
       "   Unnamed: 0       Year                                          Headlines  \\\n",
       "0           0 2020-01-01  Jim Cramer: A better way to invest in the Covi...   \n",
       "1           1 2020-01-01     Cramer's lightning round: I would own Teradyne   \n",
       "2           2 2020-01-01  Cramer's week ahead: Big week for earnings, ev...   \n",
       "3           3 2020-01-01  IQ Capital CEO Keith Bliss says tech and healt...   \n",
       "4           4 2020-01-01  Wall Street delivered the 'kind of pullback I'...   \n",
       "\n",
       "                             Time  \\\n",
       "0   7:51  PM ET Fri, 17 July 2020   \n",
       "1   7:33  PM ET Fri, 17 July 2020   \n",
       "2   7:25  PM ET Fri, 17 July 2020   \n",
       "3   4:24  PM ET Fri, 17 July 2020   \n",
       "4   7:36  PM ET Thu, 16 July 2020   \n",
       "\n",
       "                                              Tokens  \\\n",
       "0  ['better', 'way', 'invest', 'vaccine', 'gold',...   \n",
       "1                              ['would', 'teradyne']   \n",
       "2  ['big', 'week', 'earnings', 'even', 'bigger', ...   \n",
       "3  ['capital', 'keith', 'bliss', 'tech', 'healthc...   \n",
       "4  ['street', 'delivered', 'kind', 'pullback', 'w...   \n",
       "\n",
       "                                             pos_tag  senti_score  \\\n",
       "0  [('better', 'RBR'), ('way', 'NN'), ('invest', ...        0.875   \n",
       "1              [('would', 'MD'), ('teradyne', 'VB')]        0.000   \n",
       "2  [('big', 'JJ'), ('week', 'NN'), ('earnings', '...        0.375   \n",
       "3  [('capital', 'NN'), ('keith', 'NN'), ('bliss',...        0.250   \n",
       "4  [('street', 'NN'), ('delivered', 'VBD'), ('kin...        0.000   \n",
       "\n",
       "  Overall Sentiment  Label                                    sentence  \n",
       "0          Positive      1         better way invest vaccine gold rush  \n",
       "1           Neutral      0                              would teradyne  \n",
       "2          Positive      1  big week earnings even bigger week vaccine  \n",
       "3          Positive      1   capital keith bliss tech healthcare rally  \n",
       "4           Neutral      0      street delivered kind pullback waiting  "
      ]
     },
     "execution_count": 4,
     "metadata": {},
     "output_type": "execute_result"
    }
   ],
   "source": [
    "train_data.head()"
   ]
  },
  {
   "cell_type": "code",
   "execution_count": 19,
   "id": "57e6af3c",
   "metadata": {},
   "outputs": [],
   "source": [
    "features = train_data.iloc[:,9]\n",
    "label = train_data.iloc[:,8]"
   ]
  },
  {
   "cell_type": "code",
   "execution_count": 74,
   "id": "7262884d",
   "metadata": {},
   "outputs": [
    {
     "data": {
      "text/plain": [
       "0                      better way invest vaccine gold rush\n",
       "1                                           would teradyne\n",
       "2               big week earnings even bigger week vaccine\n",
       "3                capital keith bliss tech healthcare rally\n",
       "4                   street delivered kind pullback waiting\n",
       "                               ...                        \n",
       "53365        never hired british data firm center scrutiny\n",
       "53366    search volkswagen headquarters new emission in...\n",
       "53367                  set greenhouse gas reduction target\n",
       "53368    pratt whitney deliver spare engine soon india ...\n",
       "53369    uk always consider way improve data law pm may...\n",
       "Name: sentence, Length: 53370, dtype: object"
      ]
     },
     "execution_count": 74,
     "metadata": {},
     "output_type": "execute_result"
    }
   ],
   "source": [
    "features"
   ]
  },
  {
   "cell_type": "markdown",
   "id": "2e49f4be",
   "metadata": {},
   "source": [
    "## Bag of Words"
   ]
  },
  {
   "cell_type": "code",
   "execution_count": 77,
   "id": "fe707e9d",
   "metadata": {},
   "outputs": [],
   "source": [
    "from sklearn.feature_extraction.text import CountVectorizer\n",
    "bow_counts = CountVectorizer(tokenizer= nltk.word_tokenize, \n",
    "                             ngram_range=(1,3))\n",
    "\n",
    "bow_data = bow_counts.fit_transform(features)"
   ]
  },
  {
   "cell_type": "code",
   "execution_count": 78,
   "id": "643db3a4",
   "metadata": {},
   "outputs": [],
   "source": [
    "from sklearn.model_selection import train_test_split\n",
    "X_train_bow, X_test_bow, y_train_bow, y_test_bow = train_test_split(bow_data, label,test_size = 0.2, random_state = 123)"
   ]
  },
  {
   "cell_type": "markdown",
   "id": "23644337",
   "metadata": {},
   "source": [
    "### Logistic Regression--Bag of Words"
   ]
  },
  {
   "cell_type": "code",
   "execution_count": 83,
   "id": "002e25d4",
   "metadata": {},
   "outputs": [
    {
     "name": "stdout",
     "output_type": "stream",
     "text": [
      "              precision    recall  f1-score   support\n",
      "\n",
      "          -1       0.86      0.79      0.82      3306\n",
      "           0       0.75      0.90      0.82      4037\n",
      "           1       0.87      0.74      0.80      3331\n",
      "\n",
      "    accuracy                           0.81     10674\n",
      "   macro avg       0.83      0.81      0.81     10674\n",
      "weighted avg       0.82      0.81      0.81     10674\n",
      "\n"
     ]
    },
    {
     "name": "stderr",
     "output_type": "stream",
     "text": [
      "C:\\Anaconda\\envs\\py38\\lib\\site-packages\\sklearn\\linear_model\\_logistic.py:763: ConvergenceWarning: lbfgs failed to converge (status=1):\n",
      "STOP: TOTAL NO. of ITERATIONS REACHED LIMIT.\n",
      "\n",
      "Increase the number of iterations (max_iter) or scale the data as shown in:\n",
      "    https://scikit-learn.org/stable/modules/preprocessing.html\n",
      "Please also refer to the documentation for alternative solver options:\n",
      "    https://scikit-learn.org/stable/modules/linear_model.html#logistic-regression\n",
      "  n_iter_i = _check_optimize_result(\n"
     ]
    }
   ],
   "source": [
    "from sklearn.linear_model import LogisticRegression\n",
    "\n",
    "lr_model = LogisticRegression() \n",
    "lr_model.fit(X_train_bow, y_train_bow) \n",
    "\n",
    "test_pred = lr_model.predict(X_test_bow) # Class prediction\n",
    "\n",
    "\n",
    "from sklearn.metrics import classification_report\n",
    "print(classification_report(y_test_bow,test_pred))"
   ]
  },
  {
   "cell_type": "code",
   "execution_count": 72,
   "id": "c8efc158",
   "metadata": {},
   "outputs": [],
   "source": [
    "test_prob = lr_model.predict_proba(X_test_bow)"
   ]
  },
  {
   "cell_type": "code",
   "execution_count": 84,
   "id": "7fa529d5",
   "metadata": {},
   "outputs": [
    {
     "data": {
      "text/plain": [
       "0.8139404159640248"
      ]
     },
     "execution_count": 84,
     "metadata": {},
     "output_type": "execute_result"
    }
   ],
   "source": [
    "accuracy = accuracy_score(y_test_bow,test_pred)\n",
    "accuracy"
   ]
  },
  {
   "cell_type": "markdown",
   "id": "a7dea550",
   "metadata": {},
   "source": [
    "### SVM---Bag of Words"
   ]
  },
  {
   "cell_type": "code",
   "execution_count": 28,
   "id": "33d25022",
   "metadata": {},
   "outputs": [],
   "source": [
    "from sklearn.preprocessing import StandardScaler\n",
    "import numpy as np\n",
    "from sklearn.metrics import classification_report"
   ]
  },
  {
   "cell_type": "code",
   "execution_count": 10,
   "id": "4509f9d6",
   "metadata": {},
   "outputs": [],
   "source": [
    "scaler = StandardScaler(with_mean=False)\n",
    "X_train_bow_scaled = scaler.fit_transform(X_train_bow.astype(np.float64))"
   ]
  },
  {
   "cell_type": "code",
   "execution_count": 5,
   "id": "9fdc8e38",
   "metadata": {},
   "outputs": [],
   "source": [
    "# # 训练多分类模型\n",
    "from sklearn.svm import SVC\n",
    "# svm_clf = LinearSVR(kernel='sigmoid',random_state=123,\n",
    "#               max_iter=5000, decision_function_shape='ovr')\n",
    "# svm_clf.fit(X_train_bow_scaled, y_train_bow)\n",
    "# ovr_clf = OneVsRestClassifier(svm.SVC(kernel='linear',probability=True,random_state=123))\n",
    "# svm = ovr_clf.fit(X_train_bow,y_train_bow)\n",
    "# # joblib.dump(clt,\"F:/python/model/conv_19_80%.pkl\")\n",
    "# test_pred = svm_clf.predict(X_test_bow)\n",
    "# print(classification_report(y_test_bow,test_pred))\n"
   ]
  },
  {
   "cell_type": "code",
   "execution_count": 42,
   "id": "3068a8ef",
   "metadata": {},
   "outputs": [],
   "source": [
    "from sklearn.svm import LinearSVC\n",
    "from sklearn.pipeline import make_pipeline\n",
    "from sklearn.preprocessing import StandardScaler\n",
    "from sklearn.datasets import make_classification\n",
    "\n",
    "clf = make_pipeline(StandardScaler(with_mean=False),\n",
    "                    LinearSVC(random_state=0, tol=1e-5))\n",
    "clf.fit(X_train_bow, y_train_bow)"
   ]
  },
  {
   "cell_type": "code",
   "execution_count": 29,
   "id": "a5c6a4db",
   "metadata": {},
   "outputs": [
    {
     "name": "stdout",
     "output_type": "stream",
     "text": [
      "              precision    recall  f1-score   support\n",
      "\n",
      "          -1       0.70      0.61      0.65      3306\n",
      "           0       0.59      0.79      0.68      4037\n",
      "           1       0.72      0.54      0.61      3331\n",
      "\n",
      "    accuracy                           0.65     10674\n",
      "   macro avg       0.67      0.64      0.65     10674\n",
      "weighted avg       0.67      0.65      0.65     10674\n",
      "\n"
     ]
    }
   ],
   "source": [
    "test_pred = clf.predict(X_test_bow)\n",
    "print(classification_report(y_test_bow,test_pred))"
   ]
  },
  {
   "cell_type": "markdown",
   "id": "1eb0855d",
   "metadata": {},
   "source": [
    "### SGDclassifier-Bag of Words"
   ]
  },
  {
   "cell_type": "code",
   "execution_count": 49,
   "id": "f0b5d5f3",
   "metadata": {},
   "outputs": [],
   "source": [
    "from sklearn.linear_model import SGDClassifier"
   ]
  },
  {
   "cell_type": "code",
   "execution_count": null,
   "id": "70be5575",
   "metadata": {},
   "outputs": [],
   "source": [
    "# clf = SGDClassifier(loss=\"hinge\", penalty=\"l2\", max_iter=5)# (soft-margin) linear Support Vector Machine\n",
    "# loss=\"modified_huber\": smoothed hinge loss\n",
    "# loss=\"log\": logistic regression\n",
    "# loss=\"log\" and loss=\"modified_huber\" are more suitable for one-vs-all classification."
   ]
  },
  {
   "cell_type": "code",
   "execution_count": 54,
   "id": "87237b16",
   "metadata": {},
   "outputs": [
    {
     "data": {
      "text/plain": [
       "Pipeline(steps=[('standardscaler', StandardScaler(with_mean=False)),\n",
       "                ('sgdclassifier', SGDClassifier(loss='log'))])"
      ]
     },
     "execution_count": 54,
     "metadata": {},
     "output_type": "execute_result"
    }
   ],
   "source": [
    "clf = make_pipeline(StandardScaler(with_mean=False),\n",
    "                    SGDClassifier(loss=\"log\",shuffle=True,penalty=\"l2\"))\n",
    "clf.fit(X_train_bow, y_train_bow)\n"
   ]
  },
  {
   "cell_type": "code",
   "execution_count": 55,
   "id": "d5f8cbd6",
   "metadata": {},
   "outputs": [
    {
     "name": "stdout",
     "output_type": "stream",
     "text": [
      "              precision    recall  f1-score   support\n",
      "\n",
      "          -1       0.64      0.63      0.63      3306\n",
      "           0       0.63      0.65      0.64      4037\n",
      "           1       0.64      0.62      0.63      3331\n",
      "\n",
      "    accuracy                           0.63     10674\n",
      "   macro avg       0.63      0.63      0.63     10674\n",
      "weighted avg       0.63      0.63      0.63     10674\n",
      "\n"
     ]
    }
   ],
   "source": [
    "test_pred = clf.predict(X_test_bow)\n",
    "print(classification_report(y_test_bow,test_pred))"
   ]
  },
  {
   "cell_type": "markdown",
   "id": "5badb96c",
   "metadata": {},
   "source": [
    "## TF-IDF"
   ]
  },
  {
   "cell_type": "code",
   "execution_count": 32,
   "id": "a25469d2",
   "metadata": {},
   "outputs": [],
   "source": [
    "from sklearn.feature_extraction.text import TfidfVectorizer\n",
    "noise_words = []\n",
    "tfidf_counts = TfidfVectorizer(tokenizer= nltk.word_tokenize, # type of tokenization\n",
    "                               stop_words=noise_words, # List of stopwords\n",
    "                               ngram_range=(1,1)) # number of n-grams\n",
    "\n",
    "tfidf_data = tfidf_counts.fit_transform(features)"
   ]
  },
  {
   "cell_type": "code",
   "execution_count": 33,
   "id": "a3cd57de",
   "metadata": {},
   "outputs": [],
   "source": [
    "X_train_tfidf, X_test_tfidf, y_train_tfidf, y_test_tfidf = train_test_split(tfidf_data, label,test_size = 0.2, random_state = 123)"
   ]
  },
  {
   "cell_type": "code",
   "execution_count": 109,
   "id": "16ba36b3",
   "metadata": {},
   "outputs": [],
   "source": [
    "new_tfidf_data = tfidf_counts.transform(pd.Series(news1))"
   ]
  },
  {
   "cell_type": "markdown",
   "id": "bbdfb0c3",
   "metadata": {},
   "source": [
    "### Logistic Regression_TF-IDF"
   ]
  },
  {
   "cell_type": "code",
   "execution_count": 80,
   "id": "b3f491af",
   "metadata": {},
   "outputs": [],
   "source": [
    "from sklearn.metrics import accuracy_score"
   ]
  },
  {
   "cell_type": "code",
   "execution_count": 43,
   "id": "e494df28",
   "metadata": {},
   "outputs": [
    {
     "name": "stdout",
     "output_type": "stream",
     "text": [
      "              precision    recall  f1-score   support\n",
      "\n",
      "          -1       0.86      0.80      0.83      3306\n",
      "           0       0.76      0.89      0.82      4037\n",
      "           1       0.87      0.75      0.81      3331\n",
      "\n",
      "    accuracy                           0.82     10674\n",
      "   macro avg       0.83      0.81      0.82     10674\n",
      "weighted avg       0.83      0.82      0.82     10674\n",
      "\n"
     ]
    },
    {
     "name": "stderr",
     "output_type": "stream",
     "text": [
      "C:\\Anaconda\\envs\\py38\\lib\\site-packages\\sklearn\\linear_model\\_logistic.py:763: ConvergenceWarning: lbfgs failed to converge (status=1):\n",
      "STOP: TOTAL NO. of ITERATIONS REACHED LIMIT.\n",
      "\n",
      "Increase the number of iterations (max_iter) or scale the data as shown in:\n",
      "    https://scikit-learn.org/stable/modules/preprocessing.html\n",
      "Please also refer to the documentation for alternative solver options:\n",
      "    https://scikit-learn.org/stable/modules/linear_model.html#logistic-regression\n",
      "  n_iter_i = _check_optimize_result(\n"
     ]
    }
   ],
   "source": [
    "### Setting up the model class\n",
    "lr_model_tf_idf = LogisticRegression()\n",
    "\n",
    "## Training the model \n",
    "lr_model_tf_idf.fit(X_train_tfidf,y_train_tfidf)\n",
    "\n",
    "## Prediciting the results\n",
    "train_pred_lr_all = lr_model_tf_idf.predict(X_train_tfidf)\n",
    "\n",
    "test_pred_lr_all = lr_model_tf_idf.predict(X_test_tfidf)\n",
    "\n",
    "## Calculate key performance metrics\n",
    "\n",
    "\n",
    "# Print a classification report\n",
    "print(classification_report(y_test_tfidf,test_pred_lr_all))"
   ]
  },
  {
   "cell_type": "code",
   "execution_count": 82,
   "id": "f64b8978",
   "metadata": {},
   "outputs": [
    {
     "data": {
      "text/plain": [
       "0.8196552370245457"
      ]
     },
     "execution_count": 82,
     "metadata": {},
     "output_type": "execute_result"
    }
   ],
   "source": [
    "accuracy = accuracy_score(y_test_tfidf,test_pred_lr_all)\n",
    "accuracy"
   ]
  },
  {
   "cell_type": "code",
   "execution_count": 45,
   "id": "736e82ae",
   "metadata": {},
   "outputs": [
    {
     "data": {
      "image/png": "[encoded data removed]",
      "text/plain": [
       "<Figure size 288x288 with 1 Axes>"
      ]
     },
     "metadata": {
      "needs_background": "light"
     },
     "output_type": "display_data"
    }
   ],
   "source": [
    "from sklearn.metrics import confusion_matrix\n",
    "import numpy as np\n",
    "import matplotlib.pyplot as plt\n",
    "conf_mx = confusion_matrix(y_train_tfidf,train_pred_lr_all)\n",
    "plt.matshow(conf_mx, cmap = plt.cm.gray)\n",
    "plt.show()"
   ]
  },
  {
   "cell_type": "code",
   "execution_count": 47,
   "id": "9f2575a4",
   "metadata": {},
   "outputs": [],
   "source": [
    "row_nums = conf_mx.sum(axis = 1, keepdims = True) \n",
    "norm_conf_mx = conf_mx / row_nums"
   ]
  },
  {
   "cell_type": "code",
   "execution_count": 48,
   "id": "be84ea65",
   "metadata": {},
   "outputs": [
    {
     "data": {
      "text/plain": [
       "<matplotlib.image.AxesImage at 0x1b3e8f45100>"
      ]
     },
     "execution_count": 48,
     "metadata": {},
     "output_type": "execute_result"
    },
    {
     "data": {
      "image/png": "[encoded data removed]",
      "text/plain": [
       "<Figure size 288x288 with 1 Axes>"
      ]
     },
     "metadata": {
      "needs_background": "light"
     },
     "output_type": "display_data"
    }
   ],
   "source": [
    "np.fill_diagonal(norm_conf_mx,0)\n",
    "plt.matshow(norm_conf_mx, cmap = plt.cm.gray)"
   ]
  },
  {
   "cell_type": "markdown",
   "id": "f116c7df",
   "metadata": {},
   "source": [
    "### SVM_TF-IDF"
   ]
  },
  {
   "cell_type": "code",
   "execution_count": 35,
   "id": "8cd78f11",
   "metadata": {},
   "outputs": [
    {
     "name": "stderr",
     "output_type": "stream",
     "text": [
      "C:\\Anaconda\\envs\\py38\\lib\\site-packages\\sklearn\\svm\\_base.py:985: ConvergenceWarning: Liblinear failed to converge, increase the number of iterations.\n",
      "  warnings.warn(\"Liblinear failed to converge, increase \"\n"
     ]
    },
    {
     "data": {
      "text/plain": [
       "Pipeline(steps=[('standardscaler', StandardScaler(with_mean=False)),\n",
       "                ('linearsvc', LinearSVC(random_state=0, tol=1e-05))])"
      ]
     },
     "execution_count": 35,
     "metadata": {},
     "output_type": "execute_result"
    }
   ],
   "source": [
    "clf_tf = make_pipeline(StandardScaler(with_mean=False),\n",
    "                    LinearSVC(random_state=0, tol=1e-5))\n",
    "clf_tf.fit(X_train_tfidf, y_train_tfidf)"
   ]
  },
  {
   "cell_type": "code",
   "execution_count": 98,
   "id": "f9b20c9d",
   "metadata": {},
   "outputs": [
    {
     "data": {
      "text/plain": [
       "Pipeline(steps=[('standardscaler', StandardScaler(with_mean=False)),\n",
       "                ('linearsvc', LinearSVC(random_state=0, tol=1e-05))])"
      ]
     },
     "execution_count": 98,
     "metadata": {},
     "output_type": "execute_result"
    }
   ],
   "source": [
    "clf_tf"
   ]
  },
  {
   "cell_type": "code",
   "execution_count": 36,
   "id": "75d87f20",
   "metadata": {},
   "outputs": [],
   "source": [
    "test_pred_tf = clf_tf.predict(X_test_tfidf)"
   ]
  },
  {
   "cell_type": "code",
   "execution_count": 110,
   "id": "9f3dae0e",
   "metadata": {},
   "outputs": [
    {
     "data": {
      "text/plain": [
       "array([1], dtype=int64)"
      ]
     },
     "execution_count": 110,
     "metadata": {},
     "output_type": "execute_result"
    }
   ],
   "source": [
    "test_pred_tf_new = clf_tf.predict(new_tfidf_data)\n",
    "test_pred_tf_new"
   ]
  },
  {
   "cell_type": "code",
   "execution_count": 103,
   "id": "51a80740",
   "metadata": {},
   "outputs": [
    {
     "data": {
      "text/plain": [
       "array([1], dtype=int64)"
      ]
     },
     "execution_count": 103,
     "metadata": {},
     "output_type": "execute_result"
    }
   ],
   "source": [
    "test_pred_tf_new"
   ]
  },
  {
   "cell_type": "code",
   "execution_count": 38,
   "id": "089bba73",
   "metadata": {},
   "outputs": [
    {
     "name": "stdout",
     "output_type": "stream",
     "text": [
      "              precision    recall  f1-score   support\n",
      "\n",
      "          -1       0.81      0.75      0.78      3306\n",
      "           0       0.71      0.79      0.75      4037\n",
      "           1       0.80      0.74      0.77      3331\n",
      "\n",
      "    accuracy                           0.76     10674\n",
      "   macro avg       0.77      0.76      0.76     10674\n",
      "weighted avg       0.77      0.76      0.76     10674\n",
      "\n"
     ]
    }
   ],
   "source": [
    "print(classification_report(y_test_tfidf,test_pred_tf))"
   ]
  },
  {
   "cell_type": "markdown",
   "id": "b0a6df5a",
   "metadata": {},
   "source": [
    "### More Powerful Way to Train the text Classifer learned from sklearn doc"
   ]
  },
  {
   "cell_type": "markdown",
   "id": "b30f9da0",
   "metadata": {},
   "source": [
    "#### Pre Setting"
   ]
  },
  {
   "cell_type": "code",
   "execution_count": 64,
   "id": "aa31cf6a",
   "metadata": {
    "scrolled": true
   },
   "outputs": [
    {
     "name": "stdout",
     "output_type": "stream",
     "text": [
      "Automatically created module for IPython interactive environment\n",
      "Usage: ipykernel_launcher.py [options]\n",
      "\n",
      "Options:\n",
      "  -h, --help            show this help message and exit\n",
      "  --report              Print a detailed classification report.\n",
      "  --chi2_select=SELECT_CHI2\n",
      "                        Select some number of features using a chi-squared\n",
      "                        test\n",
      "  --confusion_matrix    Print the confusion matrix.\n",
      "  --top10               Print ten most discriminative terms per class for\n",
      "                        every classifier.\n",
      "  --all_categories      Whether to use all categories or not.\n",
      "  --use_hashing         Use a hashing vectorizer.\n",
      "  --n_features=N_FEATURES\n",
      "                        n_features when using the hashing vectorizer.\n",
      "  --filtered            Remove newsgroup information that is easily overfit:\n",
      "                        headers, signatures, and quoting.\n",
      "\n"
     ]
    }
   ],
   "source": [
    "# Display progress logs on stdout\n",
    "logging.basicConfig(level=logging.INFO, format=\"%(asctime)s %(levelname)s %(message)s\")\n",
    "\n",
    "op = OptionParser() \n",
    "op.add_option(\n",
    "    \"--report\",\n",
    "    action=\"store_true\",\n",
    "    dest=\"print_report\",\n",
    "    help=\"Print a detailed classification report.\",\n",
    ")\n",
    "op.add_option(\n",
    "    \"--chi2_select\",\n",
    "    action=\"store\",\n",
    "    type=\"int\",\n",
    "    dest=\"select_chi2\",\n",
    "    help=\"Select some number of features using a chi-squared test\",\n",
    ")\n",
    "op.add_option(\n",
    "    \"--confusion_matrix\",\n",
    "    action=\"store_true\",\n",
    "    dest=\"print_cm\",\n",
    "    help=\"Print the confusion matrix.\",\n",
    ")\n",
    "op.add_option(\n",
    "    \"--top10\",\n",
    "    action=\"store_true\",\n",
    "    dest=\"print_top10\",\n",
    "    help=\"Print ten most discriminative terms per class for every classifier.\",\n",
    ")\n",
    "op.add_option(\n",
    "    \"--all_categories\",\n",
    "    action=\"store_true\",\n",
    "    dest=\"all_categories\",\n",
    "    help=\"Whether to use all categories or not.\",\n",
    ")\n",
    "op.add_option(\"--use_hashing\", action=\"store_true\", help=\"Use a hashing vectorizer.\")\n",
    "op.add_option(\n",
    "    \"--n_features\",\n",
    "    action=\"store\",\n",
    "    type=int,\n",
    "    default=2 ** 16,\n",
    "    help=\"n_features when using the hashing vectorizer.\",\n",
    ")\n",
    "op.add_option(\n",
    "    \"--filtered\",\n",
    "    action=\"store_true\",\n",
    "    help=(\n",
    "        \"Remove newsgroup information that is easily overfit: \"\n",
    "        \"headers, signatures, and quoting.\"\n",
    "    ),\n",
    ")\n",
    "\n",
    "\n",
    "def is_interactive():\n",
    "    return not hasattr(sys.modules[\"__main__\"], \"__file__\")\n",
    "\n",
    "\n",
    "# work-around for Jupyter notebook and IPython console\n",
    "argv = [] if is_interactive() else sys.argv[1:]\n",
    "(opts, args) = op.parse_args(argv)\n",
    "if len(args) > 0:\n",
    "    op.error(\"this script takes no arguments.\")\n",
    "    sys.exit(1)\n",
    "\n",
    "print(__doc__)\n",
    "op.print_help()\n",
    "print()"
   ]
  },
  {
   "cell_type": "markdown",
   "id": "06509a6c",
   "metadata": {},
   "source": [
    "#### Run with TF-IDF"
   ]
  },
  {
   "cell_type": "code",
   "execution_count": 79,
   "id": "ec02452d",
   "metadata": {},
   "outputs": [
    {
     "name": "stdout",
     "output_type": "stream",
     "text": [
      "================================================================================\n",
      "Ridge Classifier\n",
      "________________________________________________________________________________\n",
      "Training: \n",
      "RidgeClassifier(solver='sag', tol=0.01)\n"
     ]
    },
    {
     "name": "stderr",
     "output_type": "stream",
     "text": [
      "C:\\Anaconda\\envs\\py38\\lib\\site-packages\\sklearn\\linear_model\\_ridge.py:555: UserWarning: \"sag\" solver requires many iterations to fit an intercept with sparse inputs. Either set the solver to \"auto\" or \"sparse_cg\", or set a low \"tol\" and a high \"max_iter\" (especially if inputs are not standardized).\n",
      "  warnings.warn(\n"
     ]
    },
    {
     "name": "stdout",
     "output_type": "stream",
     "text": [
      "train time: 0.976s\n",
      "test time:  0.010s\n",
      "accuracy:   0.817\n",
      "dimensionality: 18515\n",
      "density: 0.918769\n",
      "\n",
      "\n",
      "================================================================================\n",
      "Perceptron\n",
      "________________________________________________________________________________\n",
      "Training: \n",
      "Perceptron(max_iter=50)\n",
      "train time: 0.257s\n",
      "test time:  0.001s\n",
      "accuracy:   0.798\n",
      "dimensionality: 18515\n",
      "density: 0.649707\n",
      "\n",
      "\n",
      "================================================================================\n",
      "Passive-Aggressive\n",
      "________________________________________________________________________________\n",
      "Training: \n",
      "PassiveAggressiveClassifier(max_iter=50)\n",
      "train time: 0.664s\n",
      "test time:  0.001s\n",
      "accuracy:   0.819\n",
      "dimensionality: 18515\n",
      "density: 0.822000\n",
      "\n",
      "\n",
      "================================================================================\n",
      "kNN\n",
      "________________________________________________________________________________\n",
      "Training: \n",
      "KNeighborsClassifier(n_neighbors=3)\n",
      "train time: 0.005s\n",
      "test time:  15.397s\n",
      "accuracy:   0.537\n",
      "\n",
      "================================================================================\n",
      "Random forest\n",
      "________________________________________________________________________________\n",
      "Training: \n",
      "RandomForestClassifier()\n",
      "train time: 225.228s\n",
      "test time:  2.233s\n",
      "accuracy:   0.844\n",
      "\n",
      "================================================================================\n",
      "L2 penalty\n",
      "________________________________________________________________________________\n",
      "Training: \n",
      "LinearSVC(dual=False, tol=0.001)\n",
      "train time: 0.661s\n",
      "test time:  0.003s\n",
      "accuracy:   0.843\n",
      "dimensionality: 18515\n",
      "density: 0.918769\n",
      "\n",
      "\n",
      "________________________________________________________________________________\n",
      "Training: \n",
      "SGDClassifier(max_iter=50)\n",
      "train time: 0.300s\n",
      "test time:  0.002s\n",
      "accuracy:   0.791\n",
      "dimensionality: 18515\n",
      "density: 0.828247\n",
      "\n",
      "\n",
      "================================================================================\n",
      "L1 penalty\n",
      "________________________________________________________________________________\n",
      "Training: \n",
      "LinearSVC(dual=False, penalty='l1', tol=0.001)\n",
      "train time: 1.285s\n",
      "test time:  0.001s\n",
      "accuracy:   0.865\n",
      "dimensionality: 18515\n",
      "density: 0.265478\n",
      "\n",
      "\n",
      "________________________________________________________________________________\n",
      "Training: \n",
      "SGDClassifier(max_iter=50, penalty='l1')\n",
      "train time: 0.222s\n",
      "test time:  0.002s\n",
      "accuracy:   0.800\n",
      "dimensionality: 18515\n",
      "density: 0.019030\n",
      "\n",
      "\n",
      "================================================================================\n",
      "Elastic-Net penalty\n",
      "________________________________________________________________________________\n",
      "Training: \n",
      "SGDClassifier(max_iter=50, penalty='elasticnet')\n",
      "train time: 0.431s\n",
      "test time:  0.002s\n",
      "accuracy:   0.791\n",
      "dimensionality: 18515\n",
      "density: 0.203007\n",
      "\n",
      "\n",
      "================================================================================\n",
      "NearestCentroid (aka Rocchio classifier)\n",
      "________________________________________________________________________________\n",
      "Training: \n",
      "NearestCentroid()\n",
      "train time: 0.021s\n",
      "test time:  0.005s\n",
      "accuracy:   0.673\n",
      "\n",
      "================================================================================\n",
      "Naive Bayes\n",
      "________________________________________________________________________________\n",
      "Training: \n",
      "MultinomialNB(alpha=0.01)\n",
      "train time: 0.018s\n",
      "test time:  0.002s\n",
      "accuracy:   0.687\n",
      "dimensionality: 18515\n",
      "density: 1.000000\n",
      "\n",
      "\n",
      "________________________________________________________________________________\n",
      "Training: \n",
      "BernoulliNB(alpha=0.01)\n",
      "train time: 0.017s\n",
      "test time:  0.006s\n",
      "accuracy:   0.715\n",
      "dimensionality: 18515\n",
      "density: 1.000000\n",
      "\n",
      "\n",
      "________________________________________________________________________________\n",
      "Training: \n",
      "ComplementNB(alpha=0.1)\n",
      "train time: 0.016s\n",
      "test time:  0.003s\n",
      "accuracy:   0.716\n",
      "dimensionality: 18515\n",
      "density: 1.000000\n",
      "\n",
      "\n",
      "================================================================================\n",
      "LinearSVC with L1-based feature selection\n",
      "________________________________________________________________________________\n",
      "Training: \n",
      "Pipeline(steps=[('feature_selection',\n",
      "                 SelectFromModel(estimator=LinearSVC(dual=False, penalty='l1',\n",
      "                                                     tol=0.001))),\n",
      "                ('classification', LinearSVC())])\n"
     ]
    },
    {
     "name": "stderr",
     "output_type": "stream",
     "text": [
      "C:\\Anaconda\\envs\\py38\\lib\\site-packages\\sklearn\\utils\\deprecation.py:101: FutureWarning: Attribute coef_ was deprecated in version 0.24 and will be removed in 1.1 (renaming of 0.26).\n",
      "  warnings.warn(msg, category=FutureWarning)\n",
      "C:\\Anaconda\\envs\\py38\\lib\\site-packages\\sklearn\\utils\\deprecation.py:101: FutureWarning: Attribute coef_ was deprecated in version 0.24 and will be removed in 1.1 (renaming of 0.26).\n",
      "  warnings.warn(msg, category=FutureWarning)\n",
      "C:\\Anaconda\\envs\\py38\\lib\\site-packages\\sklearn\\utils\\deprecation.py:101: FutureWarning: Attribute coef_ was deprecated in version 0.24 and will be removed in 1.1 (renaming of 0.26).\n",
      "  warnings.warn(msg, category=FutureWarning)\n"
     ]
    },
    {
     "name": "stdout",
     "output_type": "stream",
     "text": [
      "train time: 1.788s\n",
      "test time:  0.013s\n",
      "accuracy:   0.848\n",
      "\n"
     ]
    }
   ],
   "source": [
    "def benchmark(clf):\n",
    "    print(\"_\" * 80)\n",
    "    print(\"Training: \")\n",
    "    print(clf)\n",
    "    t0 = time()\n",
    "    clf.fit(X_train_tfidf, y_train_tfidf)\n",
    "    train_time = time() - t0\n",
    "    print(\"train time: %0.3fs\" % train_time)\n",
    "\n",
    "    t0 = time()\n",
    "    pred = clf.predict(X_test_tfidf)\n",
    "    test_time = time() - t0\n",
    "    print(\"test time:  %0.3fs\" % test_time)\n",
    "\n",
    "    score = metrics.accuracy_score(y_test_tfidf, pred)\n",
    "    print(\"accuracy:   %0.3f\" % score)\n",
    "\n",
    "    if hasattr(clf, \"coef_\"):\n",
    "        print(\"dimensionality: %d\" % clf.coef_.shape[1])\n",
    "        print(\"density: %f\" % density(clf.coef_))\n",
    "\n",
    "        if opts.print_top10 and feature_names is not None:\n",
    "            print(\"top 10 keywords per class:\")\n",
    "            for i, label in enumerate(target_names):\n",
    "                top10 = np.argsort(clf.coef_[i])[-10:]\n",
    "                print(trim(\"%s: %s\" % (label, \" \".join(feature_names[top10]))))\n",
    "        print()\n",
    "\n",
    "    if opts.print_report:\n",
    "        print(\"classification report:\")\n",
    "        print(metrics.classification_report(y_test_tfidf, pred, target_names=target_names))\n",
    "\n",
    "    if opts.print_cm:\n",
    "        print(\"confusion matrix:\")\n",
    "        print(metrics.confusion_matrix(y_test_tfidf, pred))\n",
    "\n",
    "    print()\n",
    "    clf_descr = str(clf).split(\"(\")[0]\n",
    "    return clf_descr, score, train_time, test_time\n",
    "\n",
    "\n",
    "results = []\n",
    "for clf, name in (\n",
    "    (RidgeClassifier(tol=1e-2, solver=\"sag\"), \"Ridge Classifier\"),\n",
    "    (Perceptron(max_iter=50), \"Perceptron\"),\n",
    "    (PassiveAggressiveClassifier(max_iter=50), \"Passive-Aggressive\"),\n",
    "    (KNeighborsClassifier(n_neighbors=3), \"kNN\"),\n",
    "    (RandomForestClassifier(), \"Random forest\"),\n",
    "):\n",
    "    print(\"=\" * 80)\n",
    "    print(name)\n",
    "    results.append(benchmark(clf))\n",
    "\n",
    "for penalty in [\"l2\", \"l1\"]:\n",
    "    print(\"=\" * 80)\n",
    "    print(\"%s penalty\" % penalty.upper())\n",
    "    # Train Liblinear model\n",
    "    results.append(benchmark(LinearSVC(penalty=penalty, dual=False, tol=1e-3)))\n",
    "\n",
    "    # Train SGD model\n",
    "    results.append(benchmark(SGDClassifier(alpha=0.0001, max_iter=50, penalty=penalty)))\n",
    "\n",
    "# Train SGD with Elastic Net penalty\n",
    "print(\"=\" * 80)\n",
    "print(\"Elastic-Net penalty\")\n",
    "results.append(\n",
    "    benchmark(SGDClassifier(alpha=0.0001, max_iter=50, penalty=\"elasticnet\"))\n",
    ")\n",
    "\n",
    "# Train NearestCentroid without threshold\n",
    "print(\"=\" * 80)\n",
    "print(\"NearestCentroid (aka Rocchio classifier)\")\n",
    "results.append(benchmark(NearestCentroid()))\n",
    "\n",
    "# Train sparse Naive Bayes classifiers\n",
    "print(\"=\" * 80)\n",
    "print(\"Naive Bayes\")\n",
    "results.append(benchmark(MultinomialNB(alpha=0.01)))\n",
    "results.append(benchmark(BernoulliNB(alpha=0.01)))\n",
    "results.append(benchmark(ComplementNB(alpha=0.1)))\n",
    "\n",
    "print(\"=\" * 80)\n",
    "print(\"LinearSVC with L1-based feature selection\")\n",
    "# The smaller C, the stronger the regularization.\n",
    "# The more regularization, the more sparsity.\n",
    "results.append(\n",
    "    benchmark(\n",
    "        Pipeline(\n",
    "            [\n",
    "                (\n",
    "                    \"feature_selection\",\n",
    "                    SelectFromModel(LinearSVC(penalty=\"l1\", dual=False, tol=1e-3)),\n",
    "                ),\n",
    "                (\"classification\", LinearSVC(penalty=\"l2\")),\n",
    "            ]\n",
    "        )\n",
    "    )\n",
    ")"
   ]
  },
  {
   "cell_type": "markdown",
   "id": "2a93761b",
   "metadata": {},
   "source": [
    "#### Visulazation Performance"
   ]
  },
  {
   "cell_type": "code",
   "execution_count": 66,
   "id": "8dc6a555",
   "metadata": {
    "scrolled": true
   },
   "outputs": [
    {
     "data": {
      "image/png": "[encoded data removed]",
      "text/plain": [
       "<Figure size 864x576 with 1 Axes>"
      ]
     },
     "metadata": {
      "needs_background": "light"
     },
     "output_type": "display_data"
    }
   ],
   "source": [
    "indices = np.arange(len(results))\n",
    "\n",
    "results = [[x[i] for x in results] for i in range(4)]\n",
    "\n",
    "clf_names, score, training_time, test_time = results\n",
    "training_time = np.array(training_time) / np.max(training_time)\n",
    "test_time = np.array(test_time) / np.max(test_time)\n",
    "\n",
    "plt.figure(figsize=(12, 8))\n",
    "plt.title(\"Score\")\n",
    "plt.barh(indices, score, 0.2, label=\"score\", color=\"navy\")\n",
    "plt.barh(indices + 0.3, training_time, 0.2, label=\"training time\", color=\"c\")\n",
    "plt.barh(indices + 0.6, test_time, 0.2, label=\"test time\", color=\"darkorange\")\n",
    "plt.yticks(())\n",
    "plt.legend(loc=\"best\")\n",
    "plt.subplots_adjust(left=0.25)\n",
    "plt.subplots_adjust(top=0.95)\n",
    "plt.subplots_adjust(bottom=0.05)\n",
    "\n",
    "for i, c in zip(indices, clf_names):\n",
    "    plt.text(-0.3, i, c)\n",
    "\n",
    "plt.show()"
   ]
  },
  {
   "cell_type": "markdown",
   "id": "aebf7b16",
   "metadata": {},
   "source": [
    "#### Run with Bag of Words"
   ]
  },
  {
   "cell_type": "code",
   "execution_count": 86,
   "id": "a8c4b827",
   "metadata": {},
   "outputs": [
    {
     "name": "stdout",
     "output_type": "stream",
     "text": [
      "================================================================================\n",
      "Ridge Classifier\n",
      "________________________________________________________________________________\n",
      "Training: \n",
      "RidgeClassifier(solver='sag', tol=0.01)\n"
     ]
    },
    {
     "name": "stderr",
     "output_type": "stream",
     "text": [
      "C:\\Anaconda\\envs\\py38\\lib\\site-packages\\sklearn\\linear_model\\_ridge.py:555: UserWarning: \"sag\" solver requires many iterations to fit an intercept with sparse inputs. Either set the solver to \"auto\" or \"sparse_cg\", or set a low \"tol\" and a high \"max_iter\" (especially if inputs are not standardized).\n",
      "  warnings.warn(\n"
     ]
    },
    {
     "name": "stdout",
     "output_type": "stream",
     "text": [
      "train time: 4.176s\n",
      "test time:  0.011s\n",
      "accuracy:   0.815\n",
      "dimensionality: 449359\n",
      "density: 0.820627\n",
      "\n",
      "\n",
      "================================================================================\n",
      "Perceptron\n",
      "________________________________________________________________________________\n",
      "Training: \n",
      "Perceptron(max_iter=50)\n",
      "train time: 0.470s\n",
      "test time:  0.009s\n",
      "accuracy:   0.826\n",
      "dimensionality: 449359\n",
      "density: 0.312926\n",
      "\n",
      "\n",
      "================================================================================\n",
      "Passive-Aggressive\n",
      "________________________________________________________________________________\n",
      "Training: \n",
      "PassiveAggressiveClassifier(max_iter=50)\n",
      "train time: 0.459s\n",
      "test time:  0.009s\n",
      "accuracy:   0.834\n",
      "dimensionality: 449359\n",
      "density: 0.642972\n",
      "\n",
      "\n",
      "================================================================================\n",
      "kNN\n",
      "________________________________________________________________________________\n",
      "Training: \n",
      "KNeighborsClassifier(n_neighbors=3)\n",
      "train time: 0.005s\n",
      "test time:  11.207s\n",
      "accuracy:   0.440\n",
      "\n",
      "================================================================================\n",
      "Random forest\n",
      "________________________________________________________________________________\n",
      "Training: \n",
      "RandomForestClassifier()\n",
      "train time: 2778.547s\n",
      "test time:  4.559s\n",
      "accuracy:   0.819\n",
      "\n",
      "================================================================================\n",
      "L2 penalty\n",
      "________________________________________________________________________________\n",
      "Training: \n",
      "LinearSVC(dual=False, tol=0.001)\n",
      "train time: 8.473s\n",
      "test time:  0.005s\n",
      "accuracy:   0.832\n",
      "dimensionality: 449359\n",
      "density: 0.820627\n",
      "\n",
      "\n",
      "________________________________________________________________________________\n",
      "Training: \n",
      "SGDClassifier(max_iter=50)\n",
      "train time: 0.877s\n",
      "test time:  0.013s\n",
      "accuracy:   0.834\n",
      "dimensionality: 449359\n",
      "density: 0.605120\n",
      "\n",
      "\n",
      "================================================================================\n",
      "L1 penalty\n",
      "________________________________________________________________________________\n",
      "Training: \n",
      "LinearSVC(dual=False, penalty='l1', tol=0.001)\n",
      "train time: 3.564s\n",
      "test time:  0.004s\n",
      "accuracy:   0.874\n",
      "dimensionality: 449359\n",
      "density: 0.056417\n",
      "\n",
      "\n",
      "________________________________________________________________________________\n",
      "Training: \n",
      "SGDClassifier(max_iter=50, penalty='l1')\n",
      "train time: 1.489s\n",
      "test time:  0.010s\n",
      "accuracy:   0.842\n",
      "dimensionality: 449359\n",
      "density: 0.005669\n",
      "\n",
      "\n",
      "================================================================================\n",
      "Elastic-Net penalty\n",
      "________________________________________________________________________________\n",
      "Training: \n",
      "SGDClassifier(max_iter=50, penalty='elasticnet')\n",
      "train time: 2.772s\n",
      "test time:  0.011s\n",
      "accuracy:   0.848\n",
      "dimensionality: 449359\n",
      "density: 0.112295\n",
      "\n",
      "\n",
      "================================================================================\n",
      "NearestCentroid (aka Rocchio classifier)\n",
      "________________________________________________________________________________\n",
      "Training: \n",
      "NearestCentroid()\n",
      "train time: 0.046s\n",
      "test time:  0.020s\n",
      "accuracy:   0.612\n",
      "\n",
      "================================================================================\n",
      "Naive Bayes\n",
      "________________________________________________________________________________\n",
      "Training: \n",
      "MultinomialNB(alpha=0.01)\n",
      "train time: 0.067s\n",
      "test time:  0.012s\n",
      "accuracy:   0.634\n",
      "dimensionality: 449359\n",
      "density: 1.000000\n",
      "\n",
      "\n",
      "________________________________________________________________________________\n",
      "Training: \n",
      "BernoulliNB(alpha=0.01)\n"
     ]
    },
    {
     "name": "stderr",
     "output_type": "stream",
     "text": [
      "C:\\Anaconda\\envs\\py38\\lib\\site-packages\\sklearn\\utils\\deprecation.py:101: FutureWarning: Attribute coef_ was deprecated in version 0.24 and will be removed in 1.1 (renaming of 0.26).\n",
      "  warnings.warn(msg, category=FutureWarning)\n",
      "C:\\Anaconda\\envs\\py38\\lib\\site-packages\\sklearn\\utils\\deprecation.py:101: FutureWarning: Attribute coef_ was deprecated in version 0.24 and will be removed in 1.1 (renaming of 0.26).\n",
      "  warnings.warn(msg, category=FutureWarning)\n"
     ]
    },
    {
     "name": "stdout",
     "output_type": "stream",
     "text": [
      "train time: 0.062s\n",
      "test time:  0.050s\n",
      "accuracy:   0.644\n",
      "dimensionality: 449359\n",
      "density: 1.000000\n",
      "\n",
      "\n",
      "________________________________________________________________________________\n",
      "Training: \n",
      "ComplementNB(alpha=0.1)\n",
      "train time: 0.057s\n",
      "test time:  0.009s\n",
      "accuracy:   0.664\n",
      "dimensionality: 449359\n",
      "density: 1.000000\n",
      "\n",
      "\n",
      "================================================================================\n",
      "LinearSVC with L1-based feature selection\n",
      "________________________________________________________________________________\n",
      "Training: \n",
      "Pipeline(steps=[('feature_selection',\n",
      "                 SelectFromModel(estimator=LinearSVC(dual=False, penalty='l1',\n",
      "                                                     tol=0.001))),\n",
      "                ('classification', LinearSVC())])\n"
     ]
    },
    {
     "name": "stderr",
     "output_type": "stream",
     "text": [
      "C:\\Anaconda\\envs\\py38\\lib\\site-packages\\sklearn\\utils\\deprecation.py:101: FutureWarning: Attribute coef_ was deprecated in version 0.24 and will be removed in 1.1 (renaming of 0.26).\n",
      "  warnings.warn(msg, category=FutureWarning)\n"
     ]
    },
    {
     "name": "stdout",
     "output_type": "stream",
     "text": [
      "train time: 6.848s\n",
      "test time:  0.025s\n",
      "accuracy:   0.870\n",
      "\n"
     ]
    }
   ],
   "source": [
    "def benchmark(clf):\n",
    "    print(\"_\" * 80)\n",
    "    print(\"Training: \")\n",
    "    print(clf)\n",
    "    t0 = time()\n",
    "    clf.fit(X_train_bow,  y_train_bow)\n",
    "    train_time = time() - t0\n",
    "    print(\"train time: %0.3fs\" % train_time)\n",
    "\n",
    "    t0 = time()\n",
    "    pred = clf.predict(X_test_bow)\n",
    "    test_time = time() - t0\n",
    "    print(\"test time:  %0.3fs\" % test_time)\n",
    "\n",
    "    score = metrics.accuracy_score(y_test_bow, pred)\n",
    "    print(\"accuracy:   %0.3f\" % score)\n",
    "\n",
    "    if hasattr(clf, \"coef_\"):\n",
    "        print(\"dimensionality: %d\" % clf.coef_.shape[1])\n",
    "        print(\"density: %f\" % density(clf.coef_))\n",
    "\n",
    "        if opts.print_top10 and feature_names is not None:\n",
    "            print(\"top 10 keywords per class:\")\n",
    "            for i, label in enumerate(target_names):\n",
    "                top10 = np.argsort(clf.coef_[i])[-10:]\n",
    "                print(trim(\"%s: %s\" % (label, \" \".join(feature_names[top10]))))\n",
    "        print()\n",
    "\n",
    "    if opts.print_report:\n",
    "        print(\"classification report:\")\n",
    "        print(metrics.classification_report(y_test_bow, pred, target_names=target_names))\n",
    "\n",
    "    if opts.print_cm:\n",
    "        print(\"confusion matrix:\")\n",
    "        print(metrics.confusion_matrix(y_test_bow, pred))\n",
    "\n",
    "    print()\n",
    "    clf_descr = str(clf).split(\"(\")[0]\n",
    "    return clf_descr, score, train_time, test_time\n",
    "\n",
    "\n",
    "results = []\n",
    "for clf, name in (\n",
    "    (RidgeClassifier(tol=1e-2, solver=\"sag\"), \"Ridge Classifier\"),\n",
    "    (Perceptron(max_iter=50), \"Perceptron\"),\n",
    "    (PassiveAggressiveClassifier(max_iter=50), \"Passive-Aggressive\"),\n",
    "    (KNeighborsClassifier(n_neighbors=3), \"kNN\"),\n",
    "    (RandomForestClassifier(), \"Random forest\"),\n",
    "):\n",
    "    print(\"=\" * 80)\n",
    "    print(name)\n",
    "    results.append(benchmark(clf))\n",
    "\n",
    "for penalty in [\"l2\", \"l1\"]:\n",
    "    print(\"=\" * 80)\n",
    "    print(\"%s penalty\" % penalty.upper())\n",
    "    # Train Liblinear model\n",
    "    results.append(benchmark(LinearSVC(penalty=penalty, dual=False, tol=1e-3)))\n",
    "\n",
    "    # Train SGD model\n",
    "    results.append(benchmark(SGDClassifier(alpha=0.0001, max_iter=50, penalty=penalty)))\n",
    "\n",
    "# Train SGD with Elastic Net penalty\n",
    "print(\"=\" * 80)\n",
    "print(\"Elastic-Net penalty\")\n",
    "results.append(\n",
    "    benchmark(SGDClassifier(alpha=0.0001, max_iter=50, penalty=\"elasticnet\"))\n",
    ")\n",
    "\n",
    "# Train NearestCentroid without threshold\n",
    "print(\"=\" * 80)\n",
    "print(\"NearestCentroid (aka Rocchio classifier)\")\n",
    "results.append(benchmark(NearestCentroid()))\n",
    "\n",
    "# Train sparse Naive Bayes classifiers\n",
    "print(\"=\" * 80)\n",
    "print(\"Naive Bayes\")\n",
    "results.append(benchmark(MultinomialNB(alpha=0.01)))\n",
    "results.append(benchmark(BernoulliNB(alpha=0.01)))\n",
    "results.append(benchmark(ComplementNB(alpha=0.1)))\n",
    "\n",
    "print(\"=\" * 80)\n",
    "print(\"LinearSVC with L1-based feature selection\")\n",
    "# The smaller C, the stronger the regularization.\n",
    "# The more regularization, the more sparsity.\n",
    "results.append(\n",
    "    benchmark(\n",
    "        Pipeline(\n",
    "            [\n",
    "                (\n",
    "                    \"feature_selection\",\n",
    "                    SelectFromModel(LinearSVC(penalty=\"l1\", dual=False, tol=1e-3)),\n",
    "                ),\n",
    "                (\"classification\", LinearSVC(penalty=\"l2\")),\n",
    "            ]\n",
    "        )\n",
    "    )\n",
    ")"
   ]
  },
  {
   "cell_type": "code",
   "execution_count": null,
   "id": "c2527962",
   "metadata": {},
   "outputs": [],
   "source": []
  }
 ],
 "metadata": {
  "kernelspec": {
   "display_name": "Python 3",
   "language": "python",
   "name": "python3"
  },
  "language_info": {
   "codemirror_mode": {
    "name": "ipython",
    "version": 3
   },
   "file_extension": ".py",
   "mimetype": "text/x-python",
   "name": "python",
   "nbconvert_exporter": "python",
   "pygments_lexer": "ipython3",
   "version": "3.8.8"
  },
  "latex_envs": {
   "LaTeX_envs_menu_present": true,
   "autoclose": false,
   "autocomplete": true,
   "bibliofile": "biblio.bib",
   "cite_by": "apalike",
   "current_citInitial": 1,
   "eqLabelWithNumbers": true,
   "eqNumInitial": 1,
   "hotkeys": {
    "equation": "Ctrl-E",
    "itemize": "Ctrl-I"
   },
   "labels_anchors": false,
   "latex_user_defs": false,
   "report_style_numbering": false,
   "user_envs_cfg": false
  },
  "toc": {
   "base_numbering": 1,
   "nav_menu": {},
   "number_sections": true,
   "sideBar": true,
   "skip_h1_title": false,
   "title_cell": "Table of Contents",
   "title_sidebar": "Contents",
   "toc_cell": false,
   "toc_position": {},
   "toc_section_display": true,
   "toc_window_display": true
  }
 },
 "nbformat": 4,
 "nbformat_minor": 5
}
